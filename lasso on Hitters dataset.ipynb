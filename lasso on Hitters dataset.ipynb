{
 "cells": [
  {
   "cell_type": "code",
   "execution_count": 2,
   "id": "a508eb00",
   "metadata": {},
   "outputs": [
    {
     "name": "stdout",
     "output_type": "stream",
     "text": [
      "     AtBat  Hits  HmRun  Runs  RBI  Walks  Years  CAtBat  CHits  CHmRun  \\\n",
      "0      293    66      1    30   29     14      1     293     66       1   \n",
      "1      315    81      7    24   38     39     14    3449    835      69   \n",
      "2      479   130     18    66   72     76      3    1624    457      63   \n",
      "3      496   141     20    65   78     37     11    5628   1575     225   \n",
      "4      321    87     10    39   42     30      2     396    101      12   \n",
      "..     ...   ...    ...   ...  ...    ...    ...     ...    ...     ...   \n",
      "317    497   127      7    65   48     37      5    2703    806      32   \n",
      "318    492   136      5    76   50     94     12    5511   1511      39   \n",
      "319    475   126      3    61   43     52      6    1700    433       7   \n",
      "320    573   144      9    85   60     78      8    3198    857      97   \n",
      "321    631   170      9    77   44     31     11    4908   1457      30   \n",
      "\n",
      "     CRuns  CRBI  CWalks League Division  PutOuts  Assists  Errors  Salary  \\\n",
      "0       30    29      14      A        E      446       33      20     NaN   \n",
      "1      321   414     375      N        W      632       43      10   475.0   \n",
      "2      224   266     263      A        W      880       82      14   480.0   \n",
      "3      828   838     354      N        E      200       11       3   500.0   \n",
      "4       48    46      33      N        E      805       40       4    91.5   \n",
      "..     ...   ...     ...    ...      ...      ...      ...     ...     ...   \n",
      "317    379   311     138      N        E      325        9       3   700.0   \n",
      "318    897   451     875      A        E      313      381      20   875.0   \n",
      "319    217    93     146      A        W       37      113       7   385.0   \n",
      "320    470   420     332      A        E     1314      131      12   960.0   \n",
      "321    775   357     249      A        W      408        4       3  1000.0   \n",
      "\n",
      "    NewLeague  \n",
      "0           A  \n",
      "1           N  \n",
      "2           A  \n",
      "3           N  \n",
      "4           N  \n",
      "..        ...  \n",
      "317         N  \n",
      "318         A  \n",
      "319         A  \n",
      "320         A  \n",
      "321         A  \n",
      "\n",
      "[322 rows x 20 columns]\n"
     ]
    }
   ],
   "source": [
    "import pandas as pd\n",
    "from ISLP import load_data\n",
    "import numpy as np\n",
    "Hitters = load_data('Hitters')\n",
    "print(Hitters)"
   ]
  },
  {
   "cell_type": "code",
   "execution_count": 3,
   "id": "23c106f4",
   "metadata": {
    "scrolled": true
   },
   "outputs": [
    {
     "data": {
      "text/html": [
       "<div>\n",
       "<style scoped>\n",
       "    .dataframe tbody tr th:only-of-type {\n",
       "        vertical-align: middle;\n",
       "    }\n",
       "\n",
       "    .dataframe tbody tr th {\n",
       "        vertical-align: top;\n",
       "    }\n",
       "\n",
       "    .dataframe thead th {\n",
       "        text-align: right;\n",
       "    }\n",
       "</style>\n",
       "<table border=\"1\" class=\"dataframe\">\n",
       "  <thead>\n",
       "    <tr style=\"text-align: right;\">\n",
       "      <th></th>\n",
       "      <th>AtBat</th>\n",
       "      <th>Hits</th>\n",
       "      <th>HmRun</th>\n",
       "      <th>Runs</th>\n",
       "      <th>RBI</th>\n",
       "      <th>Walks</th>\n",
       "      <th>Years</th>\n",
       "      <th>CAtBat</th>\n",
       "      <th>CHits</th>\n",
       "      <th>CHmRun</th>\n",
       "      <th>CRuns</th>\n",
       "      <th>CRBI</th>\n",
       "      <th>CWalks</th>\n",
       "      <th>PutOuts</th>\n",
       "      <th>Assists</th>\n",
       "      <th>Errors</th>\n",
       "      <th>Salary</th>\n",
       "    </tr>\n",
       "  </thead>\n",
       "  <tbody>\n",
       "    <tr>\n",
       "      <th>count</th>\n",
       "      <td>322.000000</td>\n",
       "      <td>322.000000</td>\n",
       "      <td>322.000000</td>\n",
       "      <td>322.000000</td>\n",
       "      <td>322.000000</td>\n",
       "      <td>322.000000</td>\n",
       "      <td>322.000000</td>\n",
       "      <td>322.00000</td>\n",
       "      <td>322.000000</td>\n",
       "      <td>322.000000</td>\n",
       "      <td>322.000000</td>\n",
       "      <td>322.000000</td>\n",
       "      <td>322.000000</td>\n",
       "      <td>322.000000</td>\n",
       "      <td>322.000000</td>\n",
       "      <td>322.000000</td>\n",
       "      <td>263.000000</td>\n",
       "    </tr>\n",
       "    <tr>\n",
       "      <th>mean</th>\n",
       "      <td>380.928571</td>\n",
       "      <td>101.024845</td>\n",
       "      <td>10.770186</td>\n",
       "      <td>50.909938</td>\n",
       "      <td>48.027950</td>\n",
       "      <td>38.742236</td>\n",
       "      <td>7.444099</td>\n",
       "      <td>2648.68323</td>\n",
       "      <td>717.571429</td>\n",
       "      <td>69.490683</td>\n",
       "      <td>358.795031</td>\n",
       "      <td>330.118012</td>\n",
       "      <td>260.239130</td>\n",
       "      <td>288.937888</td>\n",
       "      <td>106.913043</td>\n",
       "      <td>8.040373</td>\n",
       "      <td>535.925882</td>\n",
       "    </tr>\n",
       "    <tr>\n",
       "      <th>std</th>\n",
       "      <td>153.404981</td>\n",
       "      <td>46.454741</td>\n",
       "      <td>8.709037</td>\n",
       "      <td>26.024095</td>\n",
       "      <td>26.166895</td>\n",
       "      <td>21.639327</td>\n",
       "      <td>4.926087</td>\n",
       "      <td>2324.20587</td>\n",
       "      <td>654.472627</td>\n",
       "      <td>86.266061</td>\n",
       "      <td>334.105886</td>\n",
       "      <td>333.219617</td>\n",
       "      <td>267.058085</td>\n",
       "      <td>280.704614</td>\n",
       "      <td>136.854876</td>\n",
       "      <td>6.368359</td>\n",
       "      <td>451.118681</td>\n",
       "    </tr>\n",
       "    <tr>\n",
       "      <th>min</th>\n",
       "      <td>16.000000</td>\n",
       "      <td>1.000000</td>\n",
       "      <td>0.000000</td>\n",
       "      <td>0.000000</td>\n",
       "      <td>0.000000</td>\n",
       "      <td>0.000000</td>\n",
       "      <td>1.000000</td>\n",
       "      <td>19.00000</td>\n",
       "      <td>4.000000</td>\n",
       "      <td>0.000000</td>\n",
       "      <td>1.000000</td>\n",
       "      <td>0.000000</td>\n",
       "      <td>0.000000</td>\n",
       "      <td>0.000000</td>\n",
       "      <td>0.000000</td>\n",
       "      <td>0.000000</td>\n",
       "      <td>67.500000</td>\n",
       "    </tr>\n",
       "    <tr>\n",
       "      <th>25%</th>\n",
       "      <td>255.250000</td>\n",
       "      <td>64.000000</td>\n",
       "      <td>4.000000</td>\n",
       "      <td>30.250000</td>\n",
       "      <td>28.000000</td>\n",
       "      <td>22.000000</td>\n",
       "      <td>4.000000</td>\n",
       "      <td>816.75000</td>\n",
       "      <td>209.000000</td>\n",
       "      <td>14.000000</td>\n",
       "      <td>100.250000</td>\n",
       "      <td>88.750000</td>\n",
       "      <td>67.250000</td>\n",
       "      <td>109.250000</td>\n",
       "      <td>7.000000</td>\n",
       "      <td>3.000000</td>\n",
       "      <td>190.000000</td>\n",
       "    </tr>\n",
       "    <tr>\n",
       "      <th>50%</th>\n",
       "      <td>379.500000</td>\n",
       "      <td>96.000000</td>\n",
       "      <td>8.000000</td>\n",
       "      <td>48.000000</td>\n",
       "      <td>44.000000</td>\n",
       "      <td>35.000000</td>\n",
       "      <td>6.000000</td>\n",
       "      <td>1928.00000</td>\n",
       "      <td>508.000000</td>\n",
       "      <td>37.500000</td>\n",
       "      <td>247.000000</td>\n",
       "      <td>220.500000</td>\n",
       "      <td>170.500000</td>\n",
       "      <td>212.000000</td>\n",
       "      <td>39.500000</td>\n",
       "      <td>6.000000</td>\n",
       "      <td>425.000000</td>\n",
       "    </tr>\n",
       "    <tr>\n",
       "      <th>75%</th>\n",
       "      <td>512.000000</td>\n",
       "      <td>137.000000</td>\n",
       "      <td>16.000000</td>\n",
       "      <td>69.000000</td>\n",
       "      <td>64.750000</td>\n",
       "      <td>53.000000</td>\n",
       "      <td>11.000000</td>\n",
       "      <td>3924.25000</td>\n",
       "      <td>1059.250000</td>\n",
       "      <td>90.000000</td>\n",
       "      <td>526.250000</td>\n",
       "      <td>426.250000</td>\n",
       "      <td>339.250000</td>\n",
       "      <td>325.000000</td>\n",
       "      <td>166.000000</td>\n",
       "      <td>11.000000</td>\n",
       "      <td>750.000000</td>\n",
       "    </tr>\n",
       "    <tr>\n",
       "      <th>max</th>\n",
       "      <td>687.000000</td>\n",
       "      <td>238.000000</td>\n",
       "      <td>40.000000</td>\n",
       "      <td>130.000000</td>\n",
       "      <td>121.000000</td>\n",
       "      <td>105.000000</td>\n",
       "      <td>24.000000</td>\n",
       "      <td>14053.00000</td>\n",
       "      <td>4256.000000</td>\n",
       "      <td>548.000000</td>\n",
       "      <td>2165.000000</td>\n",
       "      <td>1659.000000</td>\n",
       "      <td>1566.000000</td>\n",
       "      <td>1378.000000</td>\n",
       "      <td>492.000000</td>\n",
       "      <td>32.000000</td>\n",
       "      <td>2460.000000</td>\n",
       "    </tr>\n",
       "  </tbody>\n",
       "</table>\n",
       "</div>"
      ],
      "text/plain": [
       "            AtBat        Hits       HmRun        Runs         RBI       Walks  \\\n",
       "count  322.000000  322.000000  322.000000  322.000000  322.000000  322.000000   \n",
       "mean   380.928571  101.024845   10.770186   50.909938   48.027950   38.742236   \n",
       "std    153.404981   46.454741    8.709037   26.024095   26.166895   21.639327   \n",
       "min     16.000000    1.000000    0.000000    0.000000    0.000000    0.000000   \n",
       "25%    255.250000   64.000000    4.000000   30.250000   28.000000   22.000000   \n",
       "50%    379.500000   96.000000    8.000000   48.000000   44.000000   35.000000   \n",
       "75%    512.000000  137.000000   16.000000   69.000000   64.750000   53.000000   \n",
       "max    687.000000  238.000000   40.000000  130.000000  121.000000  105.000000   \n",
       "\n",
       "            Years       CAtBat        CHits      CHmRun        CRuns  \\\n",
       "count  322.000000    322.00000   322.000000  322.000000   322.000000   \n",
       "mean     7.444099   2648.68323   717.571429   69.490683   358.795031   \n",
       "std      4.926087   2324.20587   654.472627   86.266061   334.105886   \n",
       "min      1.000000     19.00000     4.000000    0.000000     1.000000   \n",
       "25%      4.000000    816.75000   209.000000   14.000000   100.250000   \n",
       "50%      6.000000   1928.00000   508.000000   37.500000   247.000000   \n",
       "75%     11.000000   3924.25000  1059.250000   90.000000   526.250000   \n",
       "max     24.000000  14053.00000  4256.000000  548.000000  2165.000000   \n",
       "\n",
       "              CRBI       CWalks      PutOuts     Assists      Errors  \\\n",
       "count   322.000000   322.000000   322.000000  322.000000  322.000000   \n",
       "mean    330.118012   260.239130   288.937888  106.913043    8.040373   \n",
       "std     333.219617   267.058085   280.704614  136.854876    6.368359   \n",
       "min       0.000000     0.000000     0.000000    0.000000    0.000000   \n",
       "25%      88.750000    67.250000   109.250000    7.000000    3.000000   \n",
       "50%     220.500000   170.500000   212.000000   39.500000    6.000000   \n",
       "75%     426.250000   339.250000   325.000000  166.000000   11.000000   \n",
       "max    1659.000000  1566.000000  1378.000000  492.000000   32.000000   \n",
       "\n",
       "            Salary  \n",
       "count   263.000000  \n",
       "mean    535.925882  \n",
       "std     451.118681  \n",
       "min      67.500000  \n",
       "25%     190.000000  \n",
       "50%     425.000000  \n",
       "75%     750.000000  \n",
       "max    2460.000000  "
      ]
     },
     "execution_count": 3,
     "metadata": {},
     "output_type": "execute_result"
    }
   ],
   "source": [
    "Hitters.describe()\n"
   ]
  },
  {
   "cell_type": "code",
   "execution_count": 4,
   "id": "09d6dc11",
   "metadata": {},
   "outputs": [
    {
     "name": "stdout",
     "output_type": "stream",
     "text": [
      "<class 'pandas.core.frame.DataFrame'>\n",
      "RangeIndex: 322 entries, 0 to 321\n",
      "Data columns (total 20 columns):\n",
      " #   Column     Non-Null Count  Dtype   \n",
      "---  ------     --------------  -----   \n",
      " 0   AtBat      322 non-null    int64   \n",
      " 1   Hits       322 non-null    int64   \n",
      " 2   HmRun      322 non-null    int64   \n",
      " 3   Runs       322 non-null    int64   \n",
      " 4   RBI        322 non-null    int64   \n",
      " 5   Walks      322 non-null    int64   \n",
      " 6   Years      322 non-null    int64   \n",
      " 7   CAtBat     322 non-null    int64   \n",
      " 8   CHits      322 non-null    int64   \n",
      " 9   CHmRun     322 non-null    int64   \n",
      " 10  CRuns      322 non-null    int64   \n",
      " 11  CRBI       322 non-null    int64   \n",
      " 12  CWalks     322 non-null    int64   \n",
      " 13  League     322 non-null    category\n",
      " 14  Division   322 non-null    category\n",
      " 15  PutOuts    322 non-null    int64   \n",
      " 16  Assists    322 non-null    int64   \n",
      " 17  Errors     322 non-null    int64   \n",
      " 18  Salary     263 non-null    float64 \n",
      " 19  NewLeague  322 non-null    category\n",
      "dtypes: category(3), float64(1), int64(16)\n",
      "memory usage: 44.2 KB\n"
     ]
    }
   ],
   "source": [
    "Hitters.info()"
   ]
  },
  {
   "cell_type": "code",
   "execution_count": 5,
   "id": "ad05a001",
   "metadata": {},
   "outputs": [],
   "source": [
    "Hitters=Hitters.dropna()\n",
    "df=Hitters.drop([\"League\", \"Division\", \"NewLeague\"], axis=1)"
   ]
  },
  {
   "cell_type": "code",
   "execution_count": 6,
   "id": "44bd29a2",
   "metadata": {},
   "outputs": [
    {
     "data": {
      "text/plain": [
       "AtBat      0\n",
       "Hits       0\n",
       "HmRun      0\n",
       "Runs       0\n",
       "RBI        0\n",
       "Walks      0\n",
       "Years      0\n",
       "CAtBat     0\n",
       "CHits      0\n",
       "CHmRun     0\n",
       "CRuns      0\n",
       "CRBI       0\n",
       "CWalks     0\n",
       "PutOuts    0\n",
       "Assists    0\n",
       "Errors     0\n",
       "Salary     0\n",
       "dtype: int64"
      ]
     },
     "execution_count": 6,
     "metadata": {},
     "output_type": "execute_result"
    }
   ],
   "source": [
    "df.isnull().sum()\n"
   ]
  },
  {
   "cell_type": "code",
   "execution_count": 7,
   "id": "c478cc20",
   "metadata": {},
   "outputs": [
    {
     "data": {
      "text/plain": [
       "Index(['AtBat', 'Hits', 'HmRun', 'Runs', 'RBI', 'Walks', 'Years', 'CAtBat',\n",
       "       'CHits', 'CHmRun', 'CRuns', 'CRBI', 'CWalks', 'PutOuts', 'Assists',\n",
       "       'Errors', 'Salary'],\n",
       "      dtype='object')"
      ]
     },
     "execution_count": 7,
     "metadata": {},
     "output_type": "execute_result"
    }
   ],
   "source": [
    "df.columns"
   ]
  },
  {
   "cell_type": "code",
   "execution_count": 8,
   "id": "a46bf5fd",
   "metadata": {},
   "outputs": [
    {
     "data": {
      "text/plain": [
       "1       475.0\n",
       "2       480.0\n",
       "3       500.0\n",
       "4        91.5\n",
       "5       750.0\n",
       "        ...  \n",
       "317     700.0\n",
       "318     875.0\n",
       "319     385.0\n",
       "320     960.0\n",
       "321    1000.0\n",
       "Name: Salary, Length: 263, dtype: float64"
      ]
     },
     "execution_count": 8,
     "metadata": {},
     "output_type": "execute_result"
    }
   ],
   "source": [
    "y=df[\"Salary\"]\n",
    "y"
   ]
  },
  {
   "cell_type": "code",
   "execution_count": 9,
   "id": "f00eb4ad",
   "metadata": {},
   "outputs": [
    {
     "name": "stdout",
     "output_type": "stream",
     "text": [
      "        AtBat      Hits     HmRun      Runs       RBI     Walks     Years  \\\n",
      "0   -0.602900 -0.595675 -0.528551 -1.206112 -0.522063 -0.097527  1.397893   \n",
      "1    0.512542  0.492260  0.729966  0.441515  0.794060  1.609373 -0.901200   \n",
      "2    0.628167  0.736490  0.958788  0.402286  1.026317 -0.189792  0.770868   \n",
      "3   -0.562092 -0.462459 -0.185319 -0.617673 -0.367225 -0.512719 -1.110209   \n",
      "4    1.294712  1.358167 -0.871783  0.755349 -0.018840 -0.282057  0.770868   \n",
      "..        ...       ...       ...       ...       ...       ...       ...   \n",
      "258  0.634968  0.425651 -0.528551  0.402286 -0.134968 -0.189792 -0.483183   \n",
      "259  0.600961  0.625476 -0.757373  0.833807 -0.057549  2.439756  0.979876   \n",
      "260  0.485336  0.403449 -0.986194  0.245369 -0.328515  0.502194 -0.274175   \n",
      "261  1.151881  0.803098 -0.299730  1.186870  0.329546  1.701637  0.143842   \n",
      "262  1.546366  1.380370 -0.299730  0.873036 -0.289806 -0.466586  0.770868   \n",
      "\n",
      "       CAtBat     CHits    CHmRun     CRuns      CRBI    CWalks   PutOuts  \\\n",
      "0    0.346791  0.174373 -0.002920 -0.121671  0.258966  0.435334  1.221499   \n",
      "1   -0.452865 -0.409892 -0.076054 -0.415105 -0.199590  0.010373  2.109109   \n",
      "2    1.301558  1.318174  1.898565  1.412051  1.572666  0.355654 -0.324661   \n",
      "3   -0.990935 -0.960153 -0.697693 -0.947521 -0.881228 -0.862315  1.840678   \n",
      "4    0.766993  0.634985 -0.612370  0.422846  0.017294 -0.251434 -0.031177   \n",
      "..        ...       ...       ...       ...       ...       ...       ...   \n",
      "258  0.019917  0.129549 -0.453913  0.053785 -0.060165 -0.463914  0.122723   \n",
      "259  1.250292  1.219250 -0.368590  1.620783  0.373605  2.332483  0.079774   \n",
      "260 -0.419565 -0.446988 -0.758638 -0.436281 -0.735605 -0.433560 -0.908051   \n",
      "261  0.236810  0.208378  0.338372  0.329068  0.277556  0.272180  3.662427   \n",
      "262  0.986077  1.135784 -0.478291  1.251721  0.082360 -0.042747  0.419786   \n",
      "\n",
      "      Assists    Errors  \n",
      "0   -0.523191  0.213352  \n",
      "1   -0.253863  0.819964  \n",
      "2   -0.744179 -0.848219  \n",
      "3   -0.543909 -0.696566  \n",
      "4    2.087225  2.488147  \n",
      "..        ...       ...  \n",
      "258 -0.757991 -0.848219  \n",
      "259  1.810990  1.729882  \n",
      "260 -0.039781 -0.241607  \n",
      "261  0.084525  0.516658  \n",
      "262 -0.792520 -0.848219  \n",
      "\n",
      "[263 rows x 16 columns]\n"
     ]
    }
   ],
   "source": [
    "x=df.drop([\"Salary\"], axis=1)\n",
    "from sklearn.preprocessing import StandardScaler\n",
    "x=StandardScaler().fit_transform(x)\n",
    "x = pd.DataFrame(x, columns=[['AtBat', 'Hits', 'HmRun', 'Runs', 'RBI', 'Walks', 'Years', 'CAtBat',\n",
    "       'CHits', 'CHmRun', 'CRuns', 'CRBI', 'CWalks', 'PutOuts', 'Assists',\n",
    "       'Errors']])\n",
    "print(x)"
   ]
  },
  {
   "cell_type": "code",
   "execution_count": 10,
   "id": "ad0b340c",
   "metadata": {},
   "outputs": [],
   "source": [
    "from sklearn.model_selection import train_test_split\n",
    "X_train, X_test, y_train, y_test = train_test_split(x,y,test_size=0.2, random_state=100)"
   ]
  },
  {
   "cell_type": "code",
   "execution_count": 11,
   "id": "b14d5b6a",
   "metadata": {},
   "outputs": [
    {
     "data": {
      "text/plain": [
       "(210, 16)"
      ]
     },
     "execution_count": 11,
     "metadata": {},
     "output_type": "execute_result"
    }
   ],
   "source": [
    "X_train.shape"
   ]
  },
  {
   "cell_type": "markdown",
   "id": "05114497",
   "metadata": {},
   "source": [
    "OLS"
   ]
  },
  {
   "cell_type": "code",
   "execution_count": 12,
   "id": "6d62e73d",
   "metadata": {},
   "outputs": [
    {
     "data": {
      "text/html": [
       "<style>#sk-container-id-1 {color: black;}#sk-container-id-1 pre{padding: 0;}#sk-container-id-1 div.sk-toggleable {background-color: white;}#sk-container-id-1 label.sk-toggleable__label {cursor: pointer;display: block;width: 100%;margin-bottom: 0;padding: 0.3em;box-sizing: border-box;text-align: center;}#sk-container-id-1 label.sk-toggleable__label-arrow:before {content: \"▸\";float: left;margin-right: 0.25em;color: #696969;}#sk-container-id-1 label.sk-toggleable__label-arrow:hover:before {color: black;}#sk-container-id-1 div.sk-estimator:hover label.sk-toggleable__label-arrow:before {color: black;}#sk-container-id-1 div.sk-toggleable__content {max-height: 0;max-width: 0;overflow: hidden;text-align: left;background-color: #f0f8ff;}#sk-container-id-1 div.sk-toggleable__content pre {margin: 0.2em;color: black;border-radius: 0.25em;background-color: #f0f8ff;}#sk-container-id-1 input.sk-toggleable__control:checked~div.sk-toggleable__content {max-height: 200px;max-width: 100%;overflow: auto;}#sk-container-id-1 input.sk-toggleable__control:checked~label.sk-toggleable__label-arrow:before {content: \"▾\";}#sk-container-id-1 div.sk-estimator input.sk-toggleable__control:checked~label.sk-toggleable__label {background-color: #d4ebff;}#sk-container-id-1 div.sk-label input.sk-toggleable__control:checked~label.sk-toggleable__label {background-color: #d4ebff;}#sk-container-id-1 input.sk-hidden--visually {border: 0;clip: rect(1px 1px 1px 1px);clip: rect(1px, 1px, 1px, 1px);height: 1px;margin: -1px;overflow: hidden;padding: 0;position: absolute;width: 1px;}#sk-container-id-1 div.sk-estimator {font-family: monospace;background-color: #f0f8ff;border: 1px dotted black;border-radius: 0.25em;box-sizing: border-box;margin-bottom: 0.5em;}#sk-container-id-1 div.sk-estimator:hover {background-color: #d4ebff;}#sk-container-id-1 div.sk-parallel-item::after {content: \"\";width: 100%;border-bottom: 1px solid gray;flex-grow: 1;}#sk-container-id-1 div.sk-label:hover label.sk-toggleable__label {background-color: #d4ebff;}#sk-container-id-1 div.sk-serial::before {content: \"\";position: absolute;border-left: 1px solid gray;box-sizing: border-box;top: 0;bottom: 0;left: 50%;z-index: 0;}#sk-container-id-1 div.sk-serial {display: flex;flex-direction: column;align-items: center;background-color: white;padding-right: 0.2em;padding-left: 0.2em;position: relative;}#sk-container-id-1 div.sk-item {position: relative;z-index: 1;}#sk-container-id-1 div.sk-parallel {display: flex;align-items: stretch;justify-content: center;background-color: white;position: relative;}#sk-container-id-1 div.sk-item::before, #sk-container-id-1 div.sk-parallel-item::before {content: \"\";position: absolute;border-left: 1px solid gray;box-sizing: border-box;top: 0;bottom: 0;left: 50%;z-index: -1;}#sk-container-id-1 div.sk-parallel-item {display: flex;flex-direction: column;z-index: 1;position: relative;background-color: white;}#sk-container-id-1 div.sk-parallel-item:first-child::after {align-self: flex-end;width: 50%;}#sk-container-id-1 div.sk-parallel-item:last-child::after {align-self: flex-start;width: 50%;}#sk-container-id-1 div.sk-parallel-item:only-child::after {width: 0;}#sk-container-id-1 div.sk-dashed-wrapped {border: 1px dashed gray;margin: 0 0.4em 0.5em 0.4em;box-sizing: border-box;padding-bottom: 0.4em;background-color: white;}#sk-container-id-1 div.sk-label label {font-family: monospace;font-weight: bold;display: inline-block;line-height: 1.2em;}#sk-container-id-1 div.sk-label-container {text-align: center;}#sk-container-id-1 div.sk-container {/* jupyter's `normalize.less` sets `[hidden] { display: none; }` but bootstrap.min.css set `[hidden] { display: none !important; }` so we also need the `!important` here to be able to override the default hidden behavior on the sphinx rendered scikit-learn.org. See: https://github.com/scikit-learn/scikit-learn/issues/21755 */display: inline-block !important;position: relative;}#sk-container-id-1 div.sk-text-repr-fallback {display: none;}</style><div id=\"sk-container-id-1\" class=\"sk-top-container\"><div class=\"sk-text-repr-fallback\"><pre>LinearRegression()</pre><b>In a Jupyter environment, please rerun this cell to show the HTML representation or trust the notebook. <br />On GitHub, the HTML representation is unable to render, please try loading this page with nbviewer.org.</b></div><div class=\"sk-container\" hidden><div class=\"sk-item\"><div class=\"sk-estimator sk-toggleable\"><input class=\"sk-toggleable__control sk-hidden--visually\" id=\"sk-estimator-id-1\" type=\"checkbox\" checked><label for=\"sk-estimator-id-1\" class=\"sk-toggleable__label sk-toggleable__label-arrow\">LinearRegression</label><div class=\"sk-toggleable__content\"><pre>LinearRegression()</pre></div></div></div></div></div>"
      ],
      "text/plain": [
       "LinearRegression()"
      ]
     },
     "execution_count": 12,
     "metadata": {},
     "output_type": "execute_result"
    }
   ],
   "source": [
    "from sklearn.linear_model import LinearRegression\n",
    "lr = LinearRegression()\n",
    "lr.fit(X_train, y_train)"
   ]
  },
  {
   "cell_type": "code",
   "execution_count": 13,
   "id": "900993ef",
   "metadata": {},
   "outputs": [
    {
     "name": "stdout",
     "output_type": "stream",
     "text": [
      "[-419.07445276  494.60160436   58.72766371 -103.1590053   -51.31248272\n",
      "  153.15103616  -18.27189979 -159.69968291 -325.73089098 -167.40655055\n",
      "  654.73853228  413.87515725 -242.10273869   70.92035059   61.64933356\n",
      "  -24.56242375]\n",
      "518.368456938461\n"
     ]
    }
   ],
   "source": [
    "y_lr_train_pred = lr.predict(X_train)\n",
    "y_lr_test_pred = lr.predict(X_test)\n",
    "lr_coef=lr.coef_\n",
    "lr_intercept=lr.intercept_\n",
    "print(lr_coef)\n",
    "print(lr_intercept)"
   ]
  },
  {
   "cell_type": "markdown",
   "id": "a60f59d3",
   "metadata": {},
   "source": [
    "Lasso "
   ]
  },
  {
   "cell_type": "code",
   "execution_count": 14,
   "id": "745d7959",
   "metadata": {},
   "outputs": [
    {
     "name": "stdout",
     "output_type": "stream",
     "text": [
      "[-401.42670651  417.04556408    9.87849736  -29.53103463   -0.\n",
      "  126.92675069  -38.20643052  -46.11086161    0.           -0.\n",
      "  322.43057057  117.7994625  -177.12931033   68.23203736   53.09416121\n",
      "  -22.43972169]\n",
      "518.9742921281148\n"
     ]
    }
   ],
   "source": [
    "from sklearn import linear_model\n",
    "lasso = linear_model.Lasso()\n",
    "lasso.fit(X_train, y_train)\n",
    "print(lasso.coef_)\n",
    "print(lasso.intercept_)"
   ]
  },
  {
   "cell_type": "code",
   "execution_count": 15,
   "id": "81fcc961",
   "metadata": {},
   "outputs": [],
   "source": [
    "y_lasso_train_pred = lasso.predict(X_train)\n",
    "y_lasso_test_pred = lasso.predict(X_test)"
   ]
  },
  {
   "cell_type": "markdown",
   "id": "531ed1b1",
   "metadata": {},
   "source": [
    "# Evaluate model performace"
   ]
  },
  {
   "cell_type": "code",
   "execution_count": 16,
   "id": "5e152895",
   "metadata": {},
   "outputs": [],
   "source": [
    "from sklearn.metrics import mean_squared_error, r2_score\n",
    "\n",
    "lr_train_mse = mean_squared_error(y_train, y_lr_train_pred)\n",
    "lr_train_r2 = r2_score(y_train, y_lr_train_pred)\n",
    "\n",
    "lr_test_mse =  mean_squared_error(y_test, y_lr_test_pred)\n",
    "lr_test_r2 = r2_score(y_test, y_lr_test_pred)"
   ]
  },
  {
   "cell_type": "code",
   "execution_count": 17,
   "id": "aa471894",
   "metadata": {},
   "outputs": [],
   "source": [
    "lasso_train_mse = mean_squared_error(y_train, y_lasso_train_pred)\n",
    "lasso_train_r2 = r2_score(y_train, y_lasso_train_pred)\n",
    "\n",
    "lasso_test_mse =  mean_squared_error(y_test, y_lasso_test_pred)\n",
    "lasso_test_r2 = r2_score(y_test, y_lasso_test_pred)"
   ]
  },
  {
   "cell_type": "code",
   "execution_count": 18,
   "id": "cbb422bd",
   "metadata": {},
   "outputs": [],
   "source": [
    "lr_results=pd.DataFrame([\"OLS\", lr_train_mse, lr_train_r2, lr_test_mse, lr_test_r2]).transpose()\n",
    "lr_results.columns = [\"Method\", \"Training MSE\", \"Training R2\", \"Test MSE\", \"Test R2\" ]"
   ]
  },
  {
   "cell_type": "code",
   "execution_count": 19,
   "id": "fc84324e",
   "metadata": {},
   "outputs": [],
   "source": [
    "lasso_results=pd.DataFrame([\"Lasso\", lasso_train_mse, lasso_train_r2, lasso_test_mse, lasso_test_r2]).transpose()\n",
    "lasso_results.columns = [\"Method\", \"Training MSE\", \"Training R2\", \"Test MSE\", \"Test R2\" ]"
   ]
  },
  {
   "cell_type": "code",
   "execution_count": 20,
   "id": "4473c1bf",
   "metadata": {},
   "outputs": [
    {
     "data": {
      "text/html": [
       "<div>\n",
       "<style scoped>\n",
       "    .dataframe tbody tr th:only-of-type {\n",
       "        vertical-align: middle;\n",
       "    }\n",
       "\n",
       "    .dataframe tbody tr th {\n",
       "        vertical-align: top;\n",
       "    }\n",
       "\n",
       "    .dataframe thead th {\n",
       "        text-align: right;\n",
       "    }\n",
       "</style>\n",
       "<table border=\"1\" class=\"dataframe\">\n",
       "  <thead>\n",
       "    <tr style=\"text-align: right;\">\n",
       "      <th></th>\n",
       "      <th>Method</th>\n",
       "      <th>Training MSE</th>\n",
       "      <th>Training R2</th>\n",
       "      <th>Test MSE</th>\n",
       "      <th>Test R2</th>\n",
       "    </tr>\n",
       "  </thead>\n",
       "  <tbody>\n",
       "    <tr>\n",
       "      <th>0</th>\n",
       "      <td>OLS</td>\n",
       "      <td>93356.887771</td>\n",
       "      <td>0.489591</td>\n",
       "      <td>120917.705505</td>\n",
       "      <td>0.558522</td>\n",
       "    </tr>\n",
       "  </tbody>\n",
       "</table>\n",
       "</div>"
      ],
      "text/plain": [
       "  Method  Training MSE Training R2       Test MSE   Test R2\n",
       "0    OLS  93356.887771    0.489591  120917.705505  0.558522"
      ]
     },
     "execution_count": 20,
     "metadata": {},
     "output_type": "execute_result"
    }
   ],
   "source": [
    "lr_results"
   ]
  },
  {
   "cell_type": "code",
   "execution_count": 21,
   "id": "7c442915",
   "metadata": {},
   "outputs": [
    {
     "data": {
      "text/html": [
       "<div>\n",
       "<style scoped>\n",
       "    .dataframe tbody tr th:only-of-type {\n",
       "        vertical-align: middle;\n",
       "    }\n",
       "\n",
       "    .dataframe tbody tr th {\n",
       "        vertical-align: top;\n",
       "    }\n",
       "\n",
       "    .dataframe thead th {\n",
       "        text-align: right;\n",
       "    }\n",
       "</style>\n",
       "<table border=\"1\" class=\"dataframe\">\n",
       "  <thead>\n",
       "    <tr style=\"text-align: right;\">\n",
       "      <th></th>\n",
       "      <th>Method</th>\n",
       "      <th>Training MSE</th>\n",
       "      <th>Training R2</th>\n",
       "      <th>Test MSE</th>\n",
       "      <th>Test R2</th>\n",
       "    </tr>\n",
       "  </thead>\n",
       "  <tbody>\n",
       "    <tr>\n",
       "      <th>0</th>\n",
       "      <td>Lasso</td>\n",
       "      <td>94483.951618</td>\n",
       "      <td>0.483429</td>\n",
       "      <td>118383.654024</td>\n",
       "      <td>0.567774</td>\n",
       "    </tr>\n",
       "  </tbody>\n",
       "</table>\n",
       "</div>"
      ],
      "text/plain": [
       "  Method  Training MSE Training R2       Test MSE   Test R2\n",
       "0  Lasso  94483.951618    0.483429  118383.654024  0.567774"
      ]
     },
     "execution_count": 21,
     "metadata": {},
     "output_type": "execute_result"
    }
   ],
   "source": [
    "lasso_results"
   ]
  },
  {
   "cell_type": "code",
   "execution_count": 22,
   "id": "d9c50c8e",
   "metadata": {},
   "outputs": [
    {
     "data": {
      "text/html": [
       "<div>\n",
       "<style scoped>\n",
       "    .dataframe tbody tr th:only-of-type {\n",
       "        vertical-align: middle;\n",
       "    }\n",
       "\n",
       "    .dataframe tbody tr th {\n",
       "        vertical-align: top;\n",
       "    }\n",
       "\n",
       "    .dataframe thead th {\n",
       "        text-align: right;\n",
       "    }\n",
       "</style>\n",
       "<table border=\"1\" class=\"dataframe\">\n",
       "  <thead>\n",
       "    <tr style=\"text-align: right;\">\n",
       "      <th></th>\n",
       "      <th>Method</th>\n",
       "      <th>Training MSE</th>\n",
       "      <th>Training R2</th>\n",
       "      <th>Test MSE</th>\n",
       "      <th>Test R2</th>\n",
       "    </tr>\n",
       "  </thead>\n",
       "  <tbody>\n",
       "    <tr>\n",
       "      <th>0</th>\n",
       "      <td>OLS</td>\n",
       "      <td>93356.887771</td>\n",
       "      <td>0.489591</td>\n",
       "      <td>120917.705505</td>\n",
       "      <td>0.558522</td>\n",
       "    </tr>\n",
       "    <tr>\n",
       "      <th>0</th>\n",
       "      <td>Lasso</td>\n",
       "      <td>94483.951618</td>\n",
       "      <td>0.483429</td>\n",
       "      <td>118383.654024</td>\n",
       "      <td>0.567774</td>\n",
       "    </tr>\n",
       "  </tbody>\n",
       "</table>\n",
       "</div>"
      ],
      "text/plain": [
       "  Method  Training MSE Training R2       Test MSE   Test R2\n",
       "0    OLS  93356.887771    0.489591  120917.705505  0.558522\n",
       "0  Lasso  94483.951618    0.483429  118383.654024  0.567774"
      ]
     },
     "execution_count": 22,
     "metadata": {},
     "output_type": "execute_result"
    }
   ],
   "source": [
    "df_models = pd.concat([lr_results, lasso_results], axis=0)\n",
    "df_models"
   ]
  },
  {
   "cell_type": "markdown",
   "id": "8f7c263d",
   "metadata": {},
   "source": [
    "Optimize Lasso (just try)"
   ]
  },
  {
   "cell_type": "code",
   "execution_count": 23,
   "id": "a1082171",
   "metadata": {},
   "outputs": [],
   "source": [
    "param_grid = { \"alpha\" : [0.0001, 0.001, 0.01, 0.1, 1, 10, 100, 1000]}"
   ]
  },
  {
   "cell_type": "code",
   "execution_count": 24,
   "id": "e37a7316",
   "metadata": {},
   "outputs": [
    {
     "data": {
      "text/html": [
       "<style>#sk-container-id-2 {color: black;}#sk-container-id-2 pre{padding: 0;}#sk-container-id-2 div.sk-toggleable {background-color: white;}#sk-container-id-2 label.sk-toggleable__label {cursor: pointer;display: block;width: 100%;margin-bottom: 0;padding: 0.3em;box-sizing: border-box;text-align: center;}#sk-container-id-2 label.sk-toggleable__label-arrow:before {content: \"▸\";float: left;margin-right: 0.25em;color: #696969;}#sk-container-id-2 label.sk-toggleable__label-arrow:hover:before {color: black;}#sk-container-id-2 div.sk-estimator:hover label.sk-toggleable__label-arrow:before {color: black;}#sk-container-id-2 div.sk-toggleable__content {max-height: 0;max-width: 0;overflow: hidden;text-align: left;background-color: #f0f8ff;}#sk-container-id-2 div.sk-toggleable__content pre {margin: 0.2em;color: black;border-radius: 0.25em;background-color: #f0f8ff;}#sk-container-id-2 input.sk-toggleable__control:checked~div.sk-toggleable__content {max-height: 200px;max-width: 100%;overflow: auto;}#sk-container-id-2 input.sk-toggleable__control:checked~label.sk-toggleable__label-arrow:before {content: \"▾\";}#sk-container-id-2 div.sk-estimator input.sk-toggleable__control:checked~label.sk-toggleable__label {background-color: #d4ebff;}#sk-container-id-2 div.sk-label input.sk-toggleable__control:checked~label.sk-toggleable__label {background-color: #d4ebff;}#sk-container-id-2 input.sk-hidden--visually {border: 0;clip: rect(1px 1px 1px 1px);clip: rect(1px, 1px, 1px, 1px);height: 1px;margin: -1px;overflow: hidden;padding: 0;position: absolute;width: 1px;}#sk-container-id-2 div.sk-estimator {font-family: monospace;background-color: #f0f8ff;border: 1px dotted black;border-radius: 0.25em;box-sizing: border-box;margin-bottom: 0.5em;}#sk-container-id-2 div.sk-estimator:hover {background-color: #d4ebff;}#sk-container-id-2 div.sk-parallel-item::after {content: \"\";width: 100%;border-bottom: 1px solid gray;flex-grow: 1;}#sk-container-id-2 div.sk-label:hover label.sk-toggleable__label {background-color: #d4ebff;}#sk-container-id-2 div.sk-serial::before {content: \"\";position: absolute;border-left: 1px solid gray;box-sizing: border-box;top: 0;bottom: 0;left: 50%;z-index: 0;}#sk-container-id-2 div.sk-serial {display: flex;flex-direction: column;align-items: center;background-color: white;padding-right: 0.2em;padding-left: 0.2em;position: relative;}#sk-container-id-2 div.sk-item {position: relative;z-index: 1;}#sk-container-id-2 div.sk-parallel {display: flex;align-items: stretch;justify-content: center;background-color: white;position: relative;}#sk-container-id-2 div.sk-item::before, #sk-container-id-2 div.sk-parallel-item::before {content: \"\";position: absolute;border-left: 1px solid gray;box-sizing: border-box;top: 0;bottom: 0;left: 50%;z-index: -1;}#sk-container-id-2 div.sk-parallel-item {display: flex;flex-direction: column;z-index: 1;position: relative;background-color: white;}#sk-container-id-2 div.sk-parallel-item:first-child::after {align-self: flex-end;width: 50%;}#sk-container-id-2 div.sk-parallel-item:last-child::after {align-self: flex-start;width: 50%;}#sk-container-id-2 div.sk-parallel-item:only-child::after {width: 0;}#sk-container-id-2 div.sk-dashed-wrapped {border: 1px dashed gray;margin: 0 0.4em 0.5em 0.4em;box-sizing: border-box;padding-bottom: 0.4em;background-color: white;}#sk-container-id-2 div.sk-label label {font-family: monospace;font-weight: bold;display: inline-block;line-height: 1.2em;}#sk-container-id-2 div.sk-label-container {text-align: center;}#sk-container-id-2 div.sk-container {/* jupyter's `normalize.less` sets `[hidden] { display: none; }` but bootstrap.min.css set `[hidden] { display: none !important; }` so we also need the `!important` here to be able to override the default hidden behavior on the sphinx rendered scikit-learn.org. See: https://github.com/scikit-learn/scikit-learn/issues/21755 */display: inline-block !important;position: relative;}#sk-container-id-2 div.sk-text-repr-fallback {display: none;}</style><div id=\"sk-container-id-2\" class=\"sk-top-container\"><div class=\"sk-text-repr-fallback\"><pre>Lasso(alpha=10)</pre><b>In a Jupyter environment, please rerun this cell to show the HTML representation or trust the notebook. <br />On GitHub, the HTML representation is unable to render, please try loading this page with nbviewer.org.</b></div><div class=\"sk-container\" hidden><div class=\"sk-item\"><div class=\"sk-estimator sk-toggleable\"><input class=\"sk-toggleable__control sk-hidden--visually\" id=\"sk-estimator-id-2\" type=\"checkbox\" checked><label for=\"sk-estimator-id-2\" class=\"sk-toggleable__label sk-toggleable__label-arrow\">Lasso</label><div class=\"sk-toggleable__content\"><pre>Lasso(alpha=10)</pre></div></div></div></div></div>"
      ],
      "text/plain": [
       "Lasso(alpha=10)"
      ]
     },
     "execution_count": 24,
     "metadata": {},
     "output_type": "execute_result"
    }
   ],
   "source": [
    "from sklearn.model_selection import GridSearchCV\n",
    "lasso_cv= GridSearchCV(lasso, param_grid, cv=3, n_jobs=-1)\n",
    "lasso_cv.fit(X_train, y_train)\n",
    "lasso_cv.best_estimator_"
   ]
  },
  {
   "cell_type": "code",
   "execution_count": null,
   "id": "35235eec",
   "metadata": {},
   "outputs": [],
   "source": []
  },
  {
   "cell_type": "code",
   "execution_count": 25,
   "id": "3ded30a8",
   "metadata": {},
   "outputs": [],
   "source": [
    "lasso3=linear_model.Lasso(alpha=10)\n",
    "lasso3.fit(X_train, y_train)\n",
    "lasso_coef=lasso3.coef_\n",
    "lasso_imtercept=lasso3.intercept_"
   ]
  },
  {
   "cell_type": "code",
   "execution_count": 26,
   "id": "b5951abb",
   "metadata": {},
   "outputs": [],
   "source": [
    "y_lasso_train_pred2 = lasso_cv.predict(X_train)\n",
    "y_lasso_test_pred2 = lasso_cv.predict(X_test)"
   ]
  },
  {
   "cell_type": "code",
   "execution_count": 27,
   "id": "2aeb7803",
   "metadata": {},
   "outputs": [],
   "source": [
    "lasso2_train_mse = mean_squared_error(y_train, y_lasso_train_pred2)\n",
    "lasso2_train_r2 = r2_score(y_train, y_lasso_train_pred2)\n",
    "\n",
    "lasso2_test_mse =  mean_squared_error(y_test, y_lasso_test_pred2)\n",
    "lasso2_test_r2 = r2_score(y_test, y_lasso_test_pred2)"
   ]
  },
  {
   "cell_type": "code",
   "execution_count": 28,
   "id": "5ac4a20e",
   "metadata": {},
   "outputs": [],
   "source": [
    "lasso2_results=pd.DataFrame([\"LassoCV\", lasso2_train_mse, lasso2_train_r2, lasso2_test_mse, lasso2_test_r2]).transpose()\n",
    "lasso2_results.columns = [\"Method\", \"Training MSE\", \"Training R2\", \"Test MSE\", \"Test R2\" ]"
   ]
  },
  {
   "cell_type": "code",
   "execution_count": 29,
   "id": "c5df56b4",
   "metadata": {},
   "outputs": [
    {
     "name": "stdout",
     "output_type": "stream",
     "text": [
      "[ 0.         74.29414937  0.          9.08379324  0.         38.1739158\n",
      "  0.         21.9334465  64.97706751  0.         63.62008258 38.15288083\n",
      "  0.         51.53880048  0.         -4.47029884]\n"
     ]
    }
   ],
   "source": [
    "from sklearn.linear_model import SGDRegressor\n",
    "sgd=SGDRegressor(alpha=10, penalty=\"l1\")\n",
    "sgd.fit(X_train, y_train)\n",
    "sgd_coef=sgd.coef_\n",
    "print(sgd_coef)"
   ]
  },
  {
   "cell_type": "code",
   "execution_count": 30,
   "id": "33b250ed",
   "metadata": {},
   "outputs": [],
   "source": [
    "y_sgd_train_pred2 = sgd.predict(X_train)\n",
    "y_sgd_test_pred2 = sgd.predict(X_test)\n",
    "sgd_train_mse = mean_squared_error(y_train, y_sgd_train_pred2)\n",
    "sgd_train_r2 = r2_score(y_train, y_sgd_train_pred2)\n",
    "\n",
    "sgd_test_mse =  mean_squared_error(y_test, y_sgd_test_pred2)\n",
    "sgd_test_r2 = r2_score(y_test, y_sgd_test_pred2)\n",
    "\n",
    "sgd_results=pd.DataFrame([\"SGD\", sgd_train_mse, sgd_train_r2, sgd_test_mse, sgd_test_r2]).transpose()\n",
    "sgd_results.columns = [\"Method\", \"Training MSE\", \"Training R2\", \"Test MSE\", \"Test R2\" ]"
   ]
  },
  {
   "cell_type": "code",
   "execution_count": 31,
   "id": "2ac25735",
   "metadata": {},
   "outputs": [
    {
     "data": {
      "text/html": [
       "<div>\n",
       "<style scoped>\n",
       "    .dataframe tbody tr th:only-of-type {\n",
       "        vertical-align: middle;\n",
       "    }\n",
       "\n",
       "    .dataframe tbody tr th {\n",
       "        vertical-align: top;\n",
       "    }\n",
       "\n",
       "    .dataframe thead th {\n",
       "        text-align: right;\n",
       "    }\n",
       "</style>\n",
       "<table border=\"1\" class=\"dataframe\">\n",
       "  <thead>\n",
       "    <tr style=\"text-align: right;\">\n",
       "      <th></th>\n",
       "      <th>Method</th>\n",
       "      <th>Training MSE</th>\n",
       "      <th>Training R2</th>\n",
       "      <th>Test MSE</th>\n",
       "      <th>Test R2</th>\n",
       "    </tr>\n",
       "  </thead>\n",
       "  <tbody>\n",
       "    <tr>\n",
       "      <th>0</th>\n",
       "      <td>OLS</td>\n",
       "      <td>93356.887771</td>\n",
       "      <td>0.489591</td>\n",
       "      <td>120917.705505</td>\n",
       "      <td>0.558522</td>\n",
       "    </tr>\n",
       "    <tr>\n",
       "      <th>0</th>\n",
       "      <td>Lasso</td>\n",
       "      <td>94483.951618</td>\n",
       "      <td>0.483429</td>\n",
       "      <td>118383.654024</td>\n",
       "      <td>0.567774</td>\n",
       "    </tr>\n",
       "    <tr>\n",
       "      <th>0</th>\n",
       "      <td>LassoCV</td>\n",
       "      <td>106766.192058</td>\n",
       "      <td>0.416278</td>\n",
       "      <td>125512.322326</td>\n",
       "      <td>0.541746</td>\n",
       "    </tr>\n",
       "    <tr>\n",
       "      <th>0</th>\n",
       "      <td>SGD</td>\n",
       "      <td>109208.161935</td>\n",
       "      <td>0.402927</td>\n",
       "      <td>126633.898625</td>\n",
       "      <td>0.537651</td>\n",
       "    </tr>\n",
       "  </tbody>\n",
       "</table>\n",
       "</div>"
      ],
      "text/plain": [
       "    Method   Training MSE Training R2       Test MSE   Test R2\n",
       "0      OLS   93356.887771    0.489591  120917.705505  0.558522\n",
       "0    Lasso   94483.951618    0.483429  118383.654024  0.567774\n",
       "0  LassoCV  106766.192058    0.416278  125512.322326  0.541746\n",
       "0      SGD  109208.161935    0.402927  126633.898625  0.537651"
      ]
     },
     "execution_count": 31,
     "metadata": {},
     "output_type": "execute_result"
    }
   ],
   "source": [
    "df_models = pd.concat([df_models, lasso2_results,sgd_results ], axis=0)\n",
    "df_models"
   ]
  },
  {
   "cell_type": "markdown",
   "id": "5ee12332",
   "metadata": {},
   "source": [
    "# Check coeficients"
   ]
  },
  {
   "cell_type": "code",
   "execution_count": 35,
   "id": "72ac09a5",
   "metadata": {},
   "outputs": [
    {
     "name": "stdout",
     "output_type": "stream",
     "text": [
      "[-1.00019922  1.00004188  0.00323044  0.45262164  0.22287505  0.99991679\n",
      " -0.41066961  0.42946203  0.99868688  0.56480047  0.99978498  1.00000333\n",
      " -0.25287447  0.99999551  0.75601772 -1.        ]\n"
     ]
    }
   ],
   "source": [
    "X_train_T=np.transpose(X_train)\n",
    "err=y_train-(np.dot(X_train, lasso_coef)+lasso_imtercept)\n",
    "s=np.dot(X_train_T,err)/(10*210)\n",
    "print(s)\n"
   ]
  },
  {
   "cell_type": "code",
   "execution_count": 36,
   "id": "59d3aa58",
   "metadata": {},
   "outputs": [
    {
     "data": {
      "text/html": [
       "<div>\n",
       "<style scoped>\n",
       "    .dataframe tbody tr th:only-of-type {\n",
       "        vertical-align: middle;\n",
       "    }\n",
       "\n",
       "    .dataframe tbody tr th {\n",
       "        vertical-align: top;\n",
       "    }\n",
       "\n",
       "    .dataframe thead th {\n",
       "        text-align: right;\n",
       "    }\n",
       "</style>\n",
       "<table border=\"1\" class=\"dataframe\">\n",
       "  <thead>\n",
       "    <tr style=\"text-align: right;\">\n",
       "      <th></th>\n",
       "      <th>Features</th>\n",
       "      <th>OLS</th>\n",
       "      <th>Lasso</th>\n",
       "      <th>SGD</th>\n",
       "      <th>s</th>\n",
       "    </tr>\n",
       "  </thead>\n",
       "  <tbody>\n",
       "    <tr>\n",
       "      <th>0</th>\n",
       "      <td>AtBat</td>\n",
       "      <td>-419.074453</td>\n",
       "      <td>-44.661284</td>\n",
       "      <td>0.0</td>\n",
       "      <td>-1.000199</td>\n",
       "    </tr>\n",
       "    <tr>\n",
       "      <th>1</th>\n",
       "      <td>Hits</td>\n",
       "      <td>494.601604</td>\n",
       "      <td>130.679484</td>\n",
       "      <td>74.294149</td>\n",
       "      <td>1.000042</td>\n",
       "    </tr>\n",
       "    <tr>\n",
       "      <th>2</th>\n",
       "      <td>HmRun</td>\n",
       "      <td>58.727664</td>\n",
       "      <td>0.0</td>\n",
       "      <td>0.0</td>\n",
       "      <td>0.00323</td>\n",
       "    </tr>\n",
       "    <tr>\n",
       "      <th>3</th>\n",
       "      <td>Runs</td>\n",
       "      <td>-103.159005</td>\n",
       "      <td>0.0</td>\n",
       "      <td>9.083793</td>\n",
       "      <td>0.452622</td>\n",
       "    </tr>\n",
       "    <tr>\n",
       "      <th>4</th>\n",
       "      <td>RBI</td>\n",
       "      <td>-51.312483</td>\n",
       "      <td>0.0</td>\n",
       "      <td>0.0</td>\n",
       "      <td>0.222875</td>\n",
       "    </tr>\n",
       "    <tr>\n",
       "      <th>5</th>\n",
       "      <td>Walks</td>\n",
       "      <td>153.151036</td>\n",
       "      <td>44.185411</td>\n",
       "      <td>38.173916</td>\n",
       "      <td>0.999917</td>\n",
       "    </tr>\n",
       "    <tr>\n",
       "      <th>6</th>\n",
       "      <td>Years</td>\n",
       "      <td>-18.2719</td>\n",
       "      <td>-0.0</td>\n",
       "      <td>0.0</td>\n",
       "      <td>-0.41067</td>\n",
       "    </tr>\n",
       "    <tr>\n",
       "      <th>7</th>\n",
       "      <td>CAtBat</td>\n",
       "      <td>-159.699683</td>\n",
       "      <td>0.0</td>\n",
       "      <td>21.933447</td>\n",
       "      <td>0.429462</td>\n",
       "    </tr>\n",
       "    <tr>\n",
       "      <th>8</th>\n",
       "      <td>CHits</td>\n",
       "      <td>-325.730891</td>\n",
       "      <td>75.3216</td>\n",
       "      <td>64.977068</td>\n",
       "      <td>0.998687</td>\n",
       "    </tr>\n",
       "    <tr>\n",
       "      <th>9</th>\n",
       "      <td>CHmRun</td>\n",
       "      <td>-167.406551</td>\n",
       "      <td>0.0</td>\n",
       "      <td>0.0</td>\n",
       "      <td>0.5648</td>\n",
       "    </tr>\n",
       "    <tr>\n",
       "      <th>10</th>\n",
       "      <td>CRuns</td>\n",
       "      <td>654.738532</td>\n",
       "      <td>76.758872</td>\n",
       "      <td>63.620083</td>\n",
       "      <td>0.999785</td>\n",
       "    </tr>\n",
       "    <tr>\n",
       "      <th>11</th>\n",
       "      <td>CRBI</td>\n",
       "      <td>413.875157</td>\n",
       "      <td>33.762201</td>\n",
       "      <td>38.152881</td>\n",
       "      <td>1.000003</td>\n",
       "    </tr>\n",
       "    <tr>\n",
       "      <th>12</th>\n",
       "      <td>CWalks</td>\n",
       "      <td>-242.102739</td>\n",
       "      <td>-0.0</td>\n",
       "      <td>0.0</td>\n",
       "      <td>-0.252874</td>\n",
       "    </tr>\n",
       "    <tr>\n",
       "      <th>13</th>\n",
       "      <td>PutOuts</td>\n",
       "      <td>70.920351</td>\n",
       "      <td>51.118728</td>\n",
       "      <td>51.5388</td>\n",
       "      <td>0.999996</td>\n",
       "    </tr>\n",
       "    <tr>\n",
       "      <th>14</th>\n",
       "      <td>Assists</td>\n",
       "      <td>61.649334</td>\n",
       "      <td>0.0</td>\n",
       "      <td>0.0</td>\n",
       "      <td>0.756018</td>\n",
       "    </tr>\n",
       "    <tr>\n",
       "      <th>15</th>\n",
       "      <td>Errors</td>\n",
       "      <td>-24.562424</td>\n",
       "      <td>-2.517455</td>\n",
       "      <td>-4.470299</td>\n",
       "      <td>-1.0</td>\n",
       "    </tr>\n",
       "  </tbody>\n",
       "</table>\n",
       "</div>"
      ],
      "text/plain": [
       "   Features         OLS       Lasso        SGD         s\n",
       "0     AtBat -419.074453  -44.661284        0.0 -1.000199\n",
       "1      Hits  494.601604  130.679484  74.294149  1.000042\n",
       "2     HmRun   58.727664         0.0        0.0   0.00323\n",
       "3      Runs -103.159005         0.0   9.083793  0.452622\n",
       "4       RBI  -51.312483         0.0        0.0  0.222875\n",
       "5     Walks  153.151036   44.185411  38.173916  0.999917\n",
       "6     Years    -18.2719        -0.0        0.0  -0.41067\n",
       "7    CAtBat -159.699683         0.0  21.933447  0.429462\n",
       "8     CHits -325.730891     75.3216  64.977068  0.998687\n",
       "9    CHmRun -167.406551         0.0        0.0    0.5648\n",
       "10    CRuns  654.738532   76.758872  63.620083  0.999785\n",
       "11     CRBI  413.875157   33.762201  38.152881  1.000003\n",
       "12   CWalks -242.102739        -0.0        0.0 -0.252874\n",
       "13  PutOuts   70.920351   51.118728    51.5388  0.999996\n",
       "14  Assists   61.649334         0.0        0.0  0.756018\n",
       "15   Errors  -24.562424   -2.517455  -4.470299      -1.0"
      ]
     },
     "execution_count": 36,
     "metadata": {},
     "output_type": "execute_result"
    }
   ],
   "source": [
    "coefficient=pd.DataFrame([['AtBat', 'Hits', 'HmRun', 'Runs', 'RBI', 'Walks', 'Years', 'CAtBat',\n",
    "       'CHits', 'CHmRun', 'CRuns', 'CRBI', 'CWalks', 'PutOuts', 'Assists',\n",
    "       'Errors'],lr_coef, lasso_coef, sgd_coef, s]).transpose()\n",
    "coefficient.columns=[\"Features\",\"OLS\", \"Lasso\", \"SGD\", \"s\"]\n",
    "coefficient"
   ]
  },
  {
   "cell_type": "code",
   "execution_count": null,
   "id": "f64fc520",
   "metadata": {},
   "outputs": [],
   "source": []
  },
  {
   "cell_type": "code",
   "execution_count": null,
   "id": "4000de38",
   "metadata": {},
   "outputs": [],
   "source": []
  }
 ],
 "metadata": {
  "kernelspec": {
   "display_name": "Python 3 (ipykernel)",
   "language": "python",
   "name": "python3"
  },
  "language_info": {
   "codemirror_mode": {
    "name": "ipython",
    "version": 3
   },
   "file_extension": ".py",
   "mimetype": "text/x-python",
   "name": "python",
   "nbconvert_exporter": "python",
   "pygments_lexer": "ipython3",
   "version": "3.11.4"
  }
 },
 "nbformat": 4,
 "nbformat_minor": 5
}
